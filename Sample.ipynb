{
  "nbformat": 4,
  "nbformat_minor": 0,
  "metadata": {
    "colab": {
      "provenance": []
    },
    "kernelspec": {
      "name": "python3",
      "display_name": "Python 3"
    },
    "language_info": {
      "name": "python"
    }
  },
  "cells": [
    {
      "cell_type": "code",
      "source": [
        "import sqlite3\n",
        "\n",
        "def create_connection(db_file):\n",
        "    conn = sqlite3.connect(db_file)\n",
        "    return conn\n",
        "\n",
        "def create_tables(conn):\n",
        "    create_customers_table = \"\"\"\n",
        "    CREATE TABLE IF NOT EXISTS customers (\n",
        "        id INTEGER PRIMARY KEY AUTOINCREMENT,\n",
        "        name TEXT NOT NULL,\n",
        "        email TEXT NOT NULL UNIQUE,\n",
        "        phone TEXT NOT NULL\n",
        "    );\"\"\"\n",
        "\n",
        "    create_purchases_table = \"\"\"\n",
        "    CREATE TABLE IF NOT EXISTS purchases (\n",
        "        id INTEGER PRIMARY KEY AUTOINCREMENT,\n",
        "        customer_id INTEGER,\n",
        "        item TEXT NOT NULL,\n",
        "        amount REAL NOT NULL,\n",
        "        purchase_date TEXT NOT NULL,\n",
        "        FOREIGN KEY (customer_id) REFERENCES customers (id)\n",
        "    );\"\"\"\n",
        "\n",
        "    create_interactions_table = \"\"\"\n",
        "    CREATE TABLE IF NOT EXISTS interactions (\n",
        "        id INTEGER PRIMARY KEY AUTOINCREMENT,\n",
        "        customer_id INTEGER,\n",
        "        interaction_type TEXT NOT NULL,\n",
        "        interaction_date TEXT NOT NULL,\n",
        "        notes TEXT,\n",
        "        FOREIGN KEY (customer_id) REFERENCES customers (id)\n",
        "    );\"\"\"\n",
        "\n",
        "    conn.execute(create_customers_table)\n",
        "    conn.execute(create_purchases_table)\n",
        "    conn.execute(create_interactions_table)\n",
        "\n",
        "conn = create_connection(\"customer_data.db\")\n",
        "create_tables(conn)\n",
        "\n",
        "def insert_customer(conn, name, email, phone):\n",
        "    sql = '''INSERT INTO customers(name, email, phone) VALUES(?,?,?)'''\n",
        "    cur = conn.cursor()\n",
        "    cur.execute(sql, (name, email, phone))\n",
        "    conn.commit()\n",
        "    return cur.lastrowid\n",
        "\n",
        "def insert_purchase(conn, customer_id, item, amount, purchase_date):\n",
        "    sql = '''INSERT INTO purchases(customer_id, item, amount, purchase_date) VALUES(?,?,?,?)'''\n",
        "    cur = conn.cursor()\n",
        "    cur.execute(sql, (customer_id, item, amount, purchase_date))\n",
        "    conn.commit()\n",
        "\n",
        "def insert_interaction(conn, customer_id, interaction_type, interaction_date, notes):\n",
        "    sql = '''INSERT INTO interactions(customer_id, interaction_type, interaction_date, notes) VALUES(?,?,?,?)'''\n",
        "    cur = conn.cursor()\n",
        "    cur.execute(sql, (customer_id, interaction_type, interaction_date, notes))\n",
        "    conn.commit()\n",
        "\n",
        "conn = create_connection(\"customer_data.db\")\n"
      ],
      "metadata": {
        "colab": {
          "base_uri": "https://localhost:8080/",
          "height": 54
        },
        "id": "dXRFfHuBTd27",
        "outputId": "367323d1-75a0-4e31-dc79-772067923508"
      },
      "execution_count": null,
      "outputs": [
        {
          "output_type": "execute_result",
          "data": {
            "text/plain": [
              "\"\\ncustomer_id = insert_customer(conn, 'John Doe', 'john.doe@example.com', '555-5555')\\ninsert_purchase(conn, customer_id, 'Product A', 99.99, '2024-07-15')\\ninsert_interaction(conn, customer_id, 'Email', '2024-07-15', 'Inquired about Product A')\\n\""
            ],
            "application/vnd.google.colaboratory.intrinsic+json": {
              "type": "string"
            }
          },
          "metadata": {},
          "execution_count": 58
        }
      ]
    },
    {
      "cell_type": "code",
      "source": [
        "!pip install faker"
      ],
      "metadata": {
        "colab": {
          "base_uri": "https://localhost:8080/"
        },
        "id": "5_jRjMAmXyKU",
        "outputId": "cc7005c1-90fb-45c3-e90e-b79711a43623"
      },
      "execution_count": null,
      "outputs": [
        {
          "output_type": "stream",
          "name": "stdout",
          "text": [
            "Requirement already satisfied: faker in /usr/local/lib/python3.10/dist-packages (26.0.0)\n",
            "Requirement already satisfied: python-dateutil>=2.4 in /usr/local/lib/python3.10/dist-packages (from faker) (2.8.2)\n",
            "Requirement already satisfied: six>=1.5 in /usr/local/lib/python3.10/dist-packages (from python-dateutil>=2.4->faker) (1.16.0)\n"
          ]
        }
      ]
    },
    {
      "cell_type": "code",
      "source": [
        "import faker\n",
        "from faker import Faker\n",
        "import random\n",
        "\n",
        "fake = Faker()\n",
        "\n",
        "# Add 10 more customers\n",
        "for _ in range(100):\n",
        "    name = fake.name()\n",
        "    email = fake.email()\n",
        "    phone = fake.phone_number()\n",
        "    customer_id = insert_customer(conn, name, email, phone)\n",
        "\n",
        "    # Add 1-3 purchases for each customer\n",
        "    for _ in range(random.randint(1, 3)):\n",
        "        item = fake.word()  # Generate random item names\n",
        "        amount = round(random.uniform(10, 200), 2)\n",
        "        purchase_date = fake.date_between(start_date='-1y', end_date='today')\n",
        "        insert_purchase(conn, customer_id, item, amount, purchase_date.strftime('%Y-%m-%d'))\n",
        "\n",
        "    # Add 1-2 interactions for each customer\n",
        "    for _ in range(random.randint(1, 2)):\n",
        "        interaction_type = random.choice(['Email', 'Phone', 'Chat'])\n",
        "        interaction_date = fake.date_between(start_date='-1y', end_date='today')\n",
        "        notes = fake.sentence()\n",
        "        insert_interaction(conn, customer_id, interaction_type, interaction_date.strftime('%Y-%m-%d'), notes)"
      ],
      "metadata": {
        "id": "h3scoqJ5XdRT"
      },
      "execution_count": null,
      "outputs": []
    },
    {
      "cell_type": "code",
      "source": [
        "# Fetch data from the customers table\n",
        "customers_df = pd.read_sql_query(\"SELECT * FROM customers\", conn)\n",
        "\n",
        "# Fetch data from the purchases table\n",
        "purchases_df = pd.read_sql_query(\"SELECT * FROM purchases\", conn)\n",
        "\n",
        "# Fetch data from the interactions table\n",
        "interactions_df = pd.read_sql_query(\"SELECT * FROM interactions\", conn)\n",
        "\n",
        "print(\"Customers Data:\")\n",
        "print(customers_df)\n",
        "\n",
        "print(\"\\nPurchases Data:\")\n",
        "print(purchases_df)\n",
        "\n",
        "print(\"\\nInteractions Data:\")\n",
        "print(interactions_df)\n",
        "\n"
      ],
      "metadata": {
        "colab": {
          "base_uri": "https://localhost:8080/"
        },
        "id": "pj7BSwGaYTtQ",
        "outputId": "6106c250-e140-4537-f163-bf505e5b17ef"
      },
      "execution_count": null,
      "outputs": [
        {
          "output_type": "stream",
          "name": "stdout",
          "text": [
            "Customers Data:\n",
            "     id             name                        email               phone\n",
            "0     1     Jacob Harris   franklindaniel@example.com        298.963.3654\n",
            "1     2   Melvin Stanley  gonzalezpatrick@example.net        601.209.0782\n",
            "2     3     Dustin Clark         lauren18@example.net   487-396-8116x9316\n",
            "3     4  Veronica Ibarra        jeffrey52@example.net     +1-592-271-4063\n",
            "4     5       Gary Ellis    emilymitchell@example.com       (679)222-7796\n",
            "..  ...              ...                          ...                 ...\n",
            "95   96    Sherry Wagner           eklein@example.net        548.579.0005\n",
            "96   97      Valerie Lee     jessicabrown@example.org    973-881-3042x405\n",
            "97   98   Monica Collier  valenciakenneth@example.com  (537)844-0950x8050\n",
            "98   99     Oscar Wilson         juanhall@example.com   (355)875-2707x321\n",
            "99  100    Adam Anderson         zwebster@example.com   614.596.1088x7781\n",
            "\n",
            "[100 rows x 4 columns]\n",
            "\n",
            "Purchases Data:\n",
            "      id  customer_id       item  amount purchase_date\n",
            "0      1            1      chair   15.81    2024-04-14\n",
            "1      2            2  newspaper  150.08    2024-03-17\n",
            "2      3            2     should  136.14    2023-10-09\n",
            "3      4            2   remember   18.15    2024-03-14\n",
            "4      5            3       rise  160.82    2024-01-29\n",
            "..   ...          ...        ...     ...           ...\n",
            "186  187           96        eat   96.95    2023-10-11\n",
            "187  188           97        the  126.73    2024-04-18\n",
            "188  189           98   behavior  108.01    2024-07-01\n",
            "189  190           99    program   96.73    2023-11-08\n",
            "190  191          100       step   98.86    2023-10-28\n",
            "\n",
            "[191 rows x 5 columns]\n",
            "\n",
            "Interactions Data:\n",
            "      id  customer_id interaction_type interaction_date  \\\n",
            "0      1            1             Chat       2024-05-08   \n",
            "1      2            1            Phone       2024-03-24   \n",
            "2      3            2            Email       2024-06-23   \n",
            "3      4            2            Email       2024-04-23   \n",
            "4      5            3             Chat       2024-01-24   \n",
            "..   ...          ...              ...              ...   \n",
            "148  149           98            Email       2023-10-10   \n",
            "149  150           99            Phone       2024-02-18   \n",
            "150  151           99             Chat       2023-08-12   \n",
            "151  152          100            Phone       2023-12-15   \n",
            "152  153          100            Email       2023-11-16   \n",
            "\n",
            "                                                 notes  \n",
            "0                 Try hit mention must know side this.  \n",
            "1                    Term key choose ever see perform.  \n",
            "2                         Police answer over your our.  \n",
            "3    Training majority south upon surface determine...  \n",
            "4    Amount involve soldier attack education begin ...  \n",
            "..                                                 ...  \n",
            "148  Evidence stuff prove test majority indeed toge...  \n",
            "149              Central laugh health size see writer.  \n",
            "150         Organization social cultural hold citizen.  \n",
            "151    With high agree common Democrat benefit change.  \n",
            "152  Protect conference eat note night point level ...  \n",
            "\n",
            "[153 rows x 5 columns]\n"
          ]
        }
      ]
    },
    {
      "cell_type": "code",
      "source": [
        "import pandas as pd\n",
        "import sqlite3\n",
        "\n",
        "def load_data(db_file):\n",
        "    conn = sqlite3.connect(db_file)\n",
        "    customers = pd.read_sql_query(\"SELECT * FROM customers\", conn)\n",
        "    purchases = pd.read_sql_query(\"SELECT * FROM purchases\", conn)\n",
        "    interactions = pd.read_sql_query(\"SELECT * FROM interactions\", conn)\n",
        "    conn.close()\n",
        "    return customers, purchases, interactions\n",
        "\n",
        "# Load data\n",
        "customers, purchases, interactions = load_data(\"customer_data.db\")\n",
        "\n",
        "# Print column names to verify\n",
        "print(\"Customers columns:\", customers.columns)\n",
        "print(\"Purchases columns:\", purchases.columns)\n",
        "print(\"Interactions columns:\", interactions.columns)\n",
        "\n",
        "# Ensure the column names are correct before merging\n",
        "data = customers.merge(purchases, left_on='id', right_on='customer_id', suffixes=('_customer', '_purchase'))\n",
        "data = data.merge(interactions, left_on='id_customer', right_on='customer_id', suffixes=('', '_interaction'))\n",
        "\n",
        "# Print data to verify the merge\n",
        "print(data.head())\n",
        "\n",
        "# Handle missing values\n",
        "data.fillna(method='ffill', inplace=True)\n",
        "\n",
        "# Encode categorical variables\n",
        "le = LabelEncoder()\n",
        "data['interaction_type'] = le.fit_transform(data['interaction_type'])\n",
        "\n",
        "# Scale numerical features\n",
        "scaler = StandardScaler()\n",
        "data[['amount']] = scaler.fit_transform(data[['amount']])\n"
      ],
      "metadata": {
        "colab": {
          "base_uri": "https://localhost:8080/"
        },
        "id": "rHZCBcrFT8Iy",
        "outputId": "2621a0eb-8d2a-4363-ed9b-7c3ebc302e84"
      },
      "execution_count": null,
      "outputs": [
        {
          "output_type": "stream",
          "name": "stdout",
          "text": [
            "Customers columns: Index(['id', 'name', 'email', 'phone'], dtype='object')\n",
            "Purchases columns: Index(['id', 'customer_id', 'item', 'amount', 'purchase_date'], dtype='object')\n",
            "Interactions columns: Index(['id', 'customer_id', 'interaction_type', 'interaction_date', 'notes'], dtype='object')\n",
            "   id_customer            name                        email         phone  \\\n",
            "0            1    Jacob Harris   franklindaniel@example.com  298.963.3654   \n",
            "1            1    Jacob Harris   franklindaniel@example.com  298.963.3654   \n",
            "2            2  Melvin Stanley  gonzalezpatrick@example.net  601.209.0782   \n",
            "3            2  Melvin Stanley  gonzalezpatrick@example.net  601.209.0782   \n",
            "4            2  Melvin Stanley  gonzalezpatrick@example.net  601.209.0782   \n",
            "\n",
            "   id_purchase  customer_id       item  amount purchase_date  id  \\\n",
            "0            1            1      chair   15.81    2024-04-14   1   \n",
            "1            1            1      chair   15.81    2024-04-14   2   \n",
            "2            2            2  newspaper  150.08    2024-03-17   3   \n",
            "3            2            2  newspaper  150.08    2024-03-17   4   \n",
            "4            3            2     should  136.14    2023-10-09   3   \n",
            "\n",
            "   customer_id_interaction interaction_type interaction_date  \\\n",
            "0                        1             Chat       2024-05-08   \n",
            "1                        1            Phone       2024-03-24   \n",
            "2                        2            Email       2024-06-23   \n",
            "3                        2            Email       2024-04-23   \n",
            "4                        2            Email       2024-06-23   \n",
            "\n",
            "                                               notes  \n",
            "0               Try hit mention must know side this.  \n",
            "1                  Term key choose ever see perform.  \n",
            "2                       Police answer over your our.  \n",
            "3  Training majority south upon surface determine...  \n",
            "4                       Police answer over your our.  \n"
          ]
        }
      ]
    },
    {
      "cell_type": "code",
      "source": [
        "# Feature engineering\n",
        "X = data[['amount', 'interaction_type']]\n",
        "\n",
        "# Create a binary target variable based on purchase amount\n",
        "threshold = 0  # Set a threshold for high-value purchases\n",
        "y = (data['amount'] > threshold).astype(int)\n",
        "\n",
        "# Train-test split\n",
        "X_train, X_test, y_train, y_test = train_test_split(X, y, test_size=0.2, random_state=42)\n",
        "\n",
        "# Train model\n",
        "model = LogisticRegression()\n",
        "model.fit(X_train, y_train)\n",
        "\n",
        "# Predict and evaluate\n",
        "y_pred = model.predict(X_test)\n",
        "print('Accuracy:', accuracy_score(y_test, y_pred))"
      ],
      "metadata": {
        "colab": {
          "base_uri": "https://localhost:8080/"
        },
        "id": "mF1olk8HVpvG",
        "outputId": "73f9b9b1-f351-42dd-b3b0-02a0d95ed9f7"
      },
      "execution_count": null,
      "outputs": [
        {
          "output_type": "stream",
          "name": "stdout",
          "text": [
            "Accuracy: 0.9827586206896551\n"
          ]
        }
      ]
    },
    {
      "cell_type": "code",
      "source": [
        "from transformers import pipeline\n",
        "\n",
        "# Load a pre-trained model for sentiment analysis (as an example)\n",
        "nlp = pipeline('sentiment-analysis')\n",
        "\n",
        "# Example customer inquiry\n",
        "customer_inquiry = \"I am happy with the recent purchase I made.\"\n",
        "\n",
        "# Analyze sentiment\n",
        "result = nlp(customer_inquiry)\n",
        "print(result)\n"
      ],
      "metadata": {
        "colab": {
          "base_uri": "https://localhost:8080/"
        },
        "id": "Y_Jq3Kl9Y3ly",
        "outputId": "c60eda98-9dc1-4ec0-d85d-bd1ec915648d"
      },
      "execution_count": null,
      "outputs": [
        {
          "output_type": "stream",
          "name": "stderr",
          "text": [
            "No model was supplied, defaulted to distilbert/distilbert-base-uncased-finetuned-sst-2-english and revision af0f99b (https://huggingface.co/distilbert/distilbert-base-uncased-finetuned-sst-2-english).\n",
            "Using a pipeline without specifying a model name and revision in production is not recommended.\n"
          ]
        },
        {
          "output_type": "stream",
          "name": "stdout",
          "text": [
            "[{'label': 'POSITIVE', 'score': 0.9998793601989746}]\n"
          ]
        }
      ]
    }
  ]
}